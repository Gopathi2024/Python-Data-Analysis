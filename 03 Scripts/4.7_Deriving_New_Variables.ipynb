{
 "cells": [
  {
   "cell_type": "code",
   "execution_count": 3,
   "id": "07a6e759-c62d-40f2-9b97-6d9db933407f",
   "metadata": {},
   "outputs": [
    {
     "name": "stdout",
     "output_type": "stream",
     "text": [
      "Combined DataFrame shape: (32434489, 9)\n",
      "   order_id  user_id  order_number  order_day_of_week  order_hour_of_day  \\\n",
      "0   2539329        1             1                  2                  8   \n",
      "1   2539329        1             1                  2                  8   \n",
      "2   2539329        1             1                  2                  8   \n",
      "3   2539329        1             1                  2                  8   \n",
      "4   2539329        1             1                  2                  8   \n",
      "\n",
      "   days_since_prior_order  product_id  add_to_cart_order  reordered  \n",
      "0               11.114836         196                  1          0  \n",
      "1               11.114836       14084                  2          0  \n",
      "2               11.114836       12427                  3          0  \n",
      "3               11.114836       26088                  4          0  \n",
      "4               11.114836       26405                  5          0  \n",
      "Index(['order_id', 'user_id', 'order_number', 'order_day_of_week',\n",
      "       'order_hour_of_day', 'days_since_prior_order', 'product_id',\n",
      "       'add_to_cart_order', 'reordered'],\n",
      "      dtype='object')\n"
     ]
    }
   ],
   "source": [
    "import pandas as pd\n",
    "import os\n",
    "\n",
    "# Path to the project folder\n",
    "project_path = r'C:\\Users\\sudee\\OneDrive\\Documents\\Python Scripts\\Instacart Basket Analysis'\n",
    "\n",
    "# File paths\n",
    "orders_products_combined_path = os.path.join(project_path, '02 Data', 'Prepared Data', 'orders_products_combined.pkl')\n",
    "products_checked_path = os.path.join(project_path, '02 Data', 'Prepared Data', 'products_checked_clean.csv')\n",
    "\n",
    "# Step 1: Load the combined dataset\n",
    "df_combined = pd.read_pickle(orders_products_combined_path)\n",
    "\n",
    "# Check the shape and head of the dataframe\n",
    "print(\"Combined DataFrame shape:\", df_combined.shape)\n",
    "print(df_combined.head())\n",
    "print(df_combined.columns)"
   ]
  },
  {
   "cell_type": "code",
   "execution_count": 5,
   "id": "7581b0e7-d19d-4d1c-b85a-859a64db302c",
   "metadata": {},
   "outputs": [
    {
     "name": "stdout",
     "output_type": "stream",
     "text": [
      "Products DataFrame shape: (49688, 5)\n",
      "   product_id                                       product_name  aisle_id  \\\n",
      "0           1                         Chocolate Sandwich Cookies        61   \n",
      "1           2                                   All-Seasons Salt       104   \n",
      "2           3               Robust Golden Unsweetened Oolong Tea        94   \n",
      "3           4  Smart Ones Classic Favorites Mini Rigatoni Wit...        38   \n",
      "4           5                          Green Chile Anytime Sauce         5   \n",
      "\n",
      "   department_id  prices  \n",
      "0             19     5.8  \n",
      "1             13     9.3  \n",
      "2              7     4.5  \n",
      "3              1    10.5  \n",
      "4             13     4.3  \n",
      "Index(['product_id', 'product_name', 'aisle_id', 'department_id', 'prices'], dtype='object')\n",
      "Shape after merging with products: (32435059, 10)\n",
      "   order_id  user_id  order_number  order_day_of_week  order_hour_of_day  \\\n",
      "0   2539329        1             1                  2                  8   \n",
      "1   2539329        1             1                  2                  8   \n",
      "2   2539329        1             1                  2                  8   \n",
      "3   2539329        1             1                  2                  8   \n",
      "4   2539329        1             1                  2                  8   \n",
      "\n",
      "   days_since_prior_order  product_id  add_to_cart_order  reordered  prices  \n",
      "0               11.114836         196                  1          0     9.0  \n",
      "1               11.114836       14084                  2          0    12.5  \n",
      "2               11.114836       12427                  3          0     4.4  \n",
      "3               11.114836       26088                  4          0     4.7  \n",
      "4               11.114836       26405                  5          0     1.0  \n",
      "Index(['order_id', 'user_id', 'order_number', 'order_day_of_week',\n",
      "       'order_hour_of_day', 'days_since_prior_order', 'product_id',\n",
      "       'add_to_cart_order', 'reordered', 'prices'],\n",
      "      dtype='object')\n"
     ]
    }
   ],
   "source": [
    "# Step 2: Load the products data\n",
    "df_products = pd.read_csv(products_checked_path)\n",
    "\n",
    "# Check the shape and columns of the products dataframe\n",
    "print(\"Products DataFrame shape:\", df_products.shape)\n",
    "print(df_products.head())\n",
    "print(df_products.columns)\n",
    "\n",
    "# Merge the combined orders and products data to include prices\n",
    "df_combined = df_combined.merge(df_products[['product_id', 'prices']], on='product_id', how='left')\n",
    "\n",
    "# Check the shape and columns after merge\n",
    "print(\"Shape after merging with products:\", df_combined.shape)\n",
    "print(df_combined.head())\n",
    "print(df_combined.columns)"
   ]
  },
  {
   "cell_type": "code",
   "execution_count": 9,
   "id": "5854eaa2-aadc-4d97-ae45-ca0f8ae308c9",
   "metadata": {},
   "outputs": [],
   "source": [
    "# Step 3: Creating the price_label column using loc()\n",
    "df_combined.loc[df_combined['prices'] <= 5, 'price_label'] = 'Low-range product'\n",
    "df_combined.loc[(df_combined['prices'] > 5) & (df_combined['prices'] <= 15), 'price_label'] = 'Mid-range product'\n",
    "df_combined.loc[df_combined['prices'] > 15, 'price_label'] = 'High-range product'"
   ]
  },
  {
   "cell_type": "code",
   "execution_count": 11,
   "id": "90676636-6a7b-4c87-a87b-f13d8ad7e1f3",
   "metadata": {},
   "outputs": [
    {
     "name": "stdout",
     "output_type": "stream",
     "text": [
      "Price label distribution:\n",
      "price_label\n",
      "Mid-range product     21889009\n",
      "Low-range product     10126339\n",
      "High-range product      417682\n",
      "Name: count, dtype: int64\n"
     ]
    }
   ],
   "source": [
    "# Check the distribution of the new column\n",
    "print(\"Price label distribution:\")\n",
    "print(df_combined['price_label'].value_counts())"
   ]
  },
  {
   "cell_type": "code",
   "execution_count": 13,
   "id": "475938f2-1aa9-49be-be1f-77285d8db821",
   "metadata": {},
   "outputs": [
    {
     "name": "stdout",
     "output_type": "stream",
     "text": [
      "Busiest day distribution:\n",
      "busiest_day\n",
      "Regularly busy     12562434\n",
      "Busiest days       11875759\n",
      "Least busy days     7996866\n",
      "Name: count, dtype: int64\n"
     ]
    }
   ],
   "source": [
    "# Step 4: Creating the busiest_day column\n",
    "df_combined['busiest_day'] = df_combined['order_day_of_week'].apply(\n",
    "    lambda x: 'Busiest days' if x in [0, 1] else 'Least busy days' if x in [4, 5] else 'Regularly busy'\n",
    ")\n",
    "\n",
    "# Check the distribution of the new column\n",
    "print(\"Busiest day distribution:\")\n",
    "print(df_combined['busiest_day'].value_counts())\n"
   ]
  },
  {
   "cell_type": "code",
   "execution_count": 15,
   "id": "2fdee4ed-0c8d-4c3d-9984-11d0ba94a172",
   "metadata": {},
   "outputs": [
    {
     "name": "stdout",
     "output_type": "stream",
     "text": [
      "Busiest period of day distribution:\n",
      "busiest_period_of_day\n",
      "Most orders       18681054\n",
      "Average orders    12866367\n",
      "Fewest orders       887638\n",
      "Name: count, dtype: int64\n"
     ]
    }
   ],
   "source": [
    "# Step 5: Creating the busiest_period_of_day column\n",
    "df_combined['busiest_period_of_day'] = df_combined['order_hour_of_day'].apply(\n",
    "    lambda x: 'Most orders' if 10 <= x <= 16 else 'Fewest orders' if 0 <= x <= 6 else 'Average orders'\n",
    ")\n",
    "\n",
    "# Check the distribution of the new column\n",
    "print(\"Busiest period of day distribution:\")\n",
    "print(df_combined['busiest_period_of_day'].value_counts())"
   ]
  },
  {
   "cell_type": "code",
   "execution_count": 17,
   "id": "6dcd1e16-de56-4dd4-8066-2d9db620e0e3",
   "metadata": {},
   "outputs": [
    {
     "name": "stdout",
     "output_type": "stream",
     "text": [
      "DataFrame exported to C:\\Users\\sudee\\OneDrive\\Documents\\Python Scripts\\Instacart Basket Analysis\\02 Data\\Prepared Data\\orders_products_combined_with_labels.pkl\n"
     ]
    }
   ],
   "source": [
    "# Final Step: Export the dataframe as a pickle file\n",
    "export_path = os.path.join(project_path, '02 Data', 'Prepared Data', 'orders_products_combined_with_labels.pkl')\n",
    "df_combined.to_pickle(export_path)\n",
    "print(f\"DataFrame exported to {export_path}\")"
   ]
  },
  {
   "cell_type": "markdown",
   "id": "61764f60-45bd-416d-babc-2edb826d70bd",
   "metadata": {},
   "source": [
    "\n",
    "### Explanation:\n",
    "\n",
    "1. **Introduction**: \n",
    "   - Provides an overview of what will be done in the task.\n",
    "   \n",
    "2. **Step 1: Load and Inspect the Data**: \n",
    "   - Loads the combined dataset and checks its shape and columns.\n",
    "\n",
    "3. **Step 2: Load and Merge Products Data**: \n",
    "   - Loads the products data and merges it with the combined dataframe to include the `prices` column.\n",
    "\n",
    "4. **Step 3: Create `price_label` Column**: \n",
    "   - Uses `loc()` to categorize products into `Low-range`, `Mid-range`, and `High-range` based on their prices.\n",
    "   - Checks the distribution of the new column.\n",
    "\n",
    "5. **Step 4: Update `busiest_day` Column**: \n",
    "   - Updates the `busiest_day` column to label the two busiest days and two least busy days.\n",
    "   - Checks the distribution of the new column.\n",
    "\n",
    "6. **Step 5: Create `busiest_period_of_day` Column**: \n",
    "   - Uses `apply()` with a lambda function to categorize hours into periods with the most, average, and fewest orders.\n",
    "   - Checks the distribution of the new column.\n",
    "\n",
    "7. **Step 6: Export the Final Dataframe**: \n",
    "   - Exports the updated dataframe with new columns as a pickle file.\n",
    "\n"
   ]
  }
 ],
 "metadata": {
  "kernelspec": {
   "display_name": "Python 3 (ipykernel)",
   "language": "python",
   "name": "python3"
  },
  "language_info": {
   "codemirror_mode": {
    "name": "ipython",
    "version": 3
   },
   "file_extension": ".py",
   "mimetype": "text/x-python",
   "name": "python",
   "nbconvert_exporter": "python",
   "pygments_lexer": "ipython3",
   "version": "3.12.4"
  }
 },
 "nbformat": 4,
 "nbformat_minor": 5
}
