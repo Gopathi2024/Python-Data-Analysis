{
 "cells": [
  {
   "cell_type": "code",
   "execution_count": 4,
   "id": "ae6bd878-f4e4-4d30-ab28-dcd32c2bb44f",
   "metadata": {},
   "outputs": [],
   "source": [
    "# Import necessary libraries\n",
    "import pandas as pd\n",
    "import numpy as np\n",
    "import os\n",
    "\n",
    "# Define path and load data\n",
    "path = r'C:\\Users\\sudee\\OneDrive\\Documents\\Python Scripts\\Instacart Basket Analysis'\n",
    "df_ords = pd.read_csv(os.path.join(path, '02 Data', 'Original Data', 'orders.csv'))\n",
    "df_prods = pd.read_csv(os.path.join(path, '02 Data', 'Original Data', 'products.csv'))\n",
    "df_dep = pd.read_csv(os.path.join(path, '02 Data', 'Original Data', 'departments.csv'))\n"
   ]
  },
  {
   "cell_type": "code",
   "execution_count": 6,
   "id": "d2c23300-6a48-4e75-9bed-e47eb90d18db",
   "metadata": {},
   "outputs": [],
   "source": [
    "# Drop the 'eval_set' column from the orders dataframe\n",
    "df_ords = df_ords.drop(columns=['eval_set'])\n"
   ]
  },
  {
   "cell_type": "code",
   "execution_count": 30,
   "id": "7d64a11e-5df8-46d5-a075-2bf126f6b050",
   "metadata": {},
   "outputs": [],
   "source": [
    "df_ords['order_id'] = df_ords['order_id'].astype(str)\n"
   ]
  },
  {
   "cell_type": "code",
   "execution_count": 32,
   "id": "bd614634-b78d-4c21-87ef-566af416959a",
   "metadata": {},
   "outputs": [],
   "source": [
    "# Rename 'order_dow' to 'order_day_of_week' for clarity\n",
    "df_ords.rename(columns={'order_dow': 'order_day_of_week'}, inplace=True)\n"
   ]
  },
  {
   "cell_type": "code",
   "execution_count": 60,
   "id": "4be64bbe-f403-4c12-be4d-c7c412bc693d",
   "metadata": {},
   "outputs": [],
   "source": [
    "# 7. Create the data dictionary for departments\n",
    "df_dep_t = df_dep.T\n",
    "new_header = df_dep_t.iloc[0]\n",
    "df_dep_t_new = df_dep_t[1:]\n",
    "df_dep_t_new.columns = new_header\n",
    "data_dict = df_dep_t_new.to_dict('index')\n"
   ]
  },
  {
   "cell_type": "code",
   "execution_count": 78,
   "id": "a05b0ffd-2c25-4434-8618-0533197891e1",
   "metadata": {},
   "outputs": [
    {
     "name": "stdout",
     "output_type": "stream",
     "text": [
      "Department 14 corresponds to: {'department': 'breakfast'}\n"
     ]
    }
   ],
   "source": [
    "# Identify department name for department_id 14\n",
    "breakfast_dept = data_dict['14']\n",
    "print(f\"Department 14 corresponds to: {breakfast_dept}\")\n"
   ]
  },
  {
   "cell_type": "code",
   "execution_count": 80,
   "id": "894d7e4a-ad93-496a-831e-369ced6e2ef2",
   "metadata": {},
   "outputs": [
    {
     "name": "stdout",
     "output_type": "stream",
     "text": [
      "     product_id                                      product_name  aisle_id  \\\n",
      "27           28                                 Wheat Chex Cereal       121   \n",
      "33           34                                           Unknown       121   \n",
      "67           68                           Pancake Mix, Buttermilk       130   \n",
      "89           90                                      Smorz Cereal       121   \n",
      "210         211  Gluten Free Organic Cereal Coconut Maple Vanilla       130   \n",
      "\n",
      "     department_id  prices  \n",
      "27              14    10.1  \n",
      "33              14    12.2  \n",
      "67              14    13.7  \n",
      "89              14     3.9  \n",
      "210             14     3.6  \n"
     ]
    }
   ],
   "source": [
    "# Create a subset for breakfast items\n",
    "df_breakfast = df_prods[df_prods['department_id'] == 14]\n",
    "print(df_breakfast.head())\n"
   ]
  },
  {
   "cell_type": "code",
   "execution_count": 82,
   "id": "8168bfc5-bc66-4ebb-9181-a648d0ddcad3",
   "metadata": {},
   "outputs": [
    {
     "data": {
      "text/html": [
       "<div>\n",
       "<style scoped>\n",
       "    .dataframe tbody tr th:only-of-type {\n",
       "        vertical-align: middle;\n",
       "    }\n",
       "\n",
       "    .dataframe tbody tr th {\n",
       "        vertical-align: top;\n",
       "    }\n",
       "\n",
       "    .dataframe thead th {\n",
       "        text-align: right;\n",
       "    }\n",
       "</style>\n",
       "<table border=\"1\" class=\"dataframe\">\n",
       "  <thead>\n",
       "    <tr style=\"text-align: right;\">\n",
       "      <th></th>\n",
       "      <th>product_id</th>\n",
       "      <th>product_name</th>\n",
       "      <th>aisle_id</th>\n",
       "      <th>department_id</th>\n",
       "      <th>prices</th>\n",
       "    </tr>\n",
       "  </thead>\n",
       "  <tbody>\n",
       "    <tr>\n",
       "      <th>2</th>\n",
       "      <td>3</td>\n",
       "      <td>Robust Golden Unsweetened Oolong Tea</td>\n",
       "      <td>94</td>\n",
       "      <td>7</td>\n",
       "      <td>4.5</td>\n",
       "    </tr>\n",
       "    <tr>\n",
       "      <th>6</th>\n",
       "      <td>7</td>\n",
       "      <td>Pure Coconut Water With Orange</td>\n",
       "      <td>98</td>\n",
       "      <td>7</td>\n",
       "      <td>4.4</td>\n",
       "    </tr>\n",
       "    <tr>\n",
       "      <th>9</th>\n",
       "      <td>10</td>\n",
       "      <td>Sparkling Orange Juice &amp; Prickly Pear Beverage</td>\n",
       "      <td>115</td>\n",
       "      <td>7</td>\n",
       "      <td>8.4</td>\n",
       "    </tr>\n",
       "    <tr>\n",
       "      <th>10</th>\n",
       "      <td>11</td>\n",
       "      <td>Peach Mango Juice</td>\n",
       "      <td>31</td>\n",
       "      <td>7</td>\n",
       "      <td>2.8</td>\n",
       "    </tr>\n",
       "    <tr>\n",
       "      <th>16</th>\n",
       "      <td>17</td>\n",
       "      <td>Rendered Duck Fat</td>\n",
       "      <td>35</td>\n",
       "      <td>12</td>\n",
       "      <td>17.1</td>\n",
       "    </tr>\n",
       "  </tbody>\n",
       "</table>\n",
       "</div>"
      ],
      "text/plain": [
       "    product_id                                    product_name  aisle_id  \\\n",
       "2            3            Robust Golden Unsweetened Oolong Tea        94   \n",
       "6            7                  Pure Coconut Water With Orange        98   \n",
       "9           10  Sparkling Orange Juice & Prickly Pear Beverage       115   \n",
       "10          11                               Peach Mango Juice        31   \n",
       "16          17                               Rendered Duck Fat        35   \n",
       "\n",
       "    department_id  prices  \n",
       "2               7     4.5  \n",
       "6               7     4.4  \n",
       "9               7     8.4  \n",
       "10              7     2.8  \n",
       "16             12    17.1  "
      ]
     },
     "execution_count": 82,
     "metadata": {},
     "output_type": "execute_result"
    }
   ],
   "source": [
    "# 10. Create a subset for specific departments\n",
    "departments_of_interest = [5, 20, 7, 12]  # alcohol, deli, beverages, meat/seafood\n",
    "df_dinner_party = df_prods[df_prods['department_id'].isin(departments_of_interest)]\n",
    "df_dinner_party.head()\n"
   ]
  },
  {
   "cell_type": "code",
   "execution_count": 64,
   "id": "149333b3-c223-4e53-a853-b22e7b07b0c3",
   "metadata": {},
   "outputs": [
    {
     "name": "stdout",
     "output_type": "stream",
     "text": [
      "Total rows in df_dinner_party: 7650\n"
     ]
    }
   ],
   "source": [
    "# 11. Count the total number of rows in the last dataframe\n",
    "print(f\"Total rows in df_dinner_party: {df_dinner_party.shape[0]}\")\n"
   ]
  },
  {
   "cell_type": "code",
   "execution_count": 66,
   "id": "97283d67-2ad1-43f7-a1d4-b9259915825f",
   "metadata": {},
   "outputs": [
    {
     "name": "stdout",
     "output_type": "stream",
     "text": [
      "   order_id  user_id  order_number  order_day_of_week  order_hour_of_day  \\\n",
      "0   2539329        1             1                  2                  8   \n",
      "1   2398795        1             2                  3                  7   \n",
      "2    473747        1             3                  3                 12   \n",
      "3   2254736        1             4                  4                  7   \n",
      "4    431534        1             5                  4                 15   \n",
      "5   3367565        1             6                  2                  7   \n",
      "6    550135        1             7                  1                  9   \n",
      "7   3108588        1             8                  1                 14   \n",
      "8   2295261        1             9                  1                 16   \n",
      "9   2550362        1            10                  4                  8   \n",
      "10  1187899        1            11                  4                  8   \n",
      "\n",
      "    days_since_prior_order  \n",
      "0                11.114836  \n",
      "1                15.000000  \n",
      "2                21.000000  \n",
      "3                29.000000  \n",
      "4                28.000000  \n",
      "5                19.000000  \n",
      "6                20.000000  \n",
      "7                14.000000  \n",
      "8                 0.000000  \n",
      "9                30.000000  \n",
      "10               14.000000  \n"
     ]
    }
   ],
   "source": [
    "# 12. Extract information for `user_id` 1\n",
    "df_user_1 = df_ords[df_ords['user_id'] == 1]\n",
    "print(df_user_1)"
   ]
  },
  {
   "cell_type": "code",
   "execution_count": 68,
   "id": "b74b7aca-9997-46cf-93cf-6de20aee38e0",
   "metadata": {},
   "outputs": [
    {
     "name": "stdout",
     "output_type": "stream",
     "text": [
      "       user_id  order_number  order_day_of_week  order_hour_of_day  \\\n",
      "count     11.0     11.000000          11.000000          11.000000   \n",
      "mean       1.0      6.000000           2.636364          10.090909   \n",
      "std        0.0      3.316625           1.286291           3.477198   \n",
      "min        1.0      1.000000           1.000000           7.000000   \n",
      "25%        1.0      3.500000           1.500000           7.500000   \n",
      "50%        1.0      6.000000           3.000000           8.000000   \n",
      "75%        1.0      8.500000           4.000000          13.000000   \n",
      "max        1.0     11.000000           4.000000          16.000000   \n",
      "\n",
      "       days_since_prior_order  \n",
      "count               11.000000  \n",
      "mean                18.283167  \n",
      "std                  8.891139  \n",
      "min                  0.000000  \n",
      "25%                 14.000000  \n",
      "50%                 19.000000  \n",
      "75%                 24.500000  \n",
      "max                 30.000000  \n"
     ]
    }
   ],
   "source": [
    "# 13. Provide basic stats about the user's behavior\n",
    "print(df_user_1.describe())\n"
   ]
  },
  {
   "cell_type": "code",
   "execution_count": 70,
   "id": "6dba8808-20fe-470c-b61c-8633b0affe1a",
   "metadata": {},
   "outputs": [],
   "source": [
    "# 14. Export the `df_ords` dataframe\n",
    "df_ords.to_csv(os.path.join(path, '02 Data', 'Prepared Data', 'orders_wrangled.csv'), index=False)"
   ]
  },
  {
   "cell_type": "code",
   "execution_count": 72,
   "id": "4b5bb986-be88-471b-92bf-c3ebb35e5438",
   "metadata": {},
   "outputs": [],
   "source": [
    "# 15. Export the `df_dep_t_new` dataframe\n",
    "df_dep_t_new.to_csv(os.path.join(path, '02 Data', 'Prepared Data', 'departments_wrangled.csv'), index=False)"
   ]
  },
  {
   "cell_type": "code",
   "execution_count": null,
   "id": "38c7abb1-d1b3-4899-ab9c-4fbc7e620614",
   "metadata": {},
   "outputs": [],
   "source": []
  }
 ],
 "metadata": {
  "kernelspec": {
   "display_name": "Python 3 (ipykernel)",
   "language": "python",
   "name": "python3"
  },
  "language_info": {
   "codemirror_mode": {
    "name": "ipython",
    "version": 3
   },
   "file_extension": ".py",
   "mimetype": "text/x-python",
   "name": "python",
   "nbconvert_exporter": "python",
   "pygments_lexer": "ipython3",
   "version": "3.12.4"
  }
 },
 "nbformat": 4,
 "nbformat_minor": 5
}
