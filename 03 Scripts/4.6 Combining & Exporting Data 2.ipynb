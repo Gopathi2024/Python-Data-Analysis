{
 "cells": [
  {
   "cell_type": "code",
   "execution_count": 46,
   "id": "516e9131-4f11-4b87-bc34-2fbe00eac0f3",
   "metadata": {},
   "outputs": [
    {
     "name": "stdout",
     "output_type": "stream",
     "text": [
      "Checking if C:\\Users\\sudee\\OneDrive\\Documents\\Python Scripts\\Instacart Basket Analysis\\02 Data\\Prepared Data\\orders_checked_clean.csv exists...\n",
      "C:\\Users\\sudee\\OneDrive\\Documents\\Python Scripts\\Instacart Basket Analysis\\02 Data\\Prepared Data\\orders_checked_clean.csv exists.\n",
      "Checking if C:\\Users\\sudee\\OneDrive\\Documents\\Python Scripts\\Instacart Basket Analysis\\02 Data\\Prepared Data\\products_checked_clean.csv exists...\n",
      "C:\\Users\\sudee\\OneDrive\\Documents\\Python Scripts\\Instacart Basket Analysis\\02 Data\\Prepared Data\\products_checked_clean.csv exists.\n",
      "Checking if C:\\Users\\sudee\\OneDrive\\Documents\\Python Scripts\\Instacart Basket Analysis\\02 Data\\Original Data\\orders_products_prior.csv exists...\n",
      "C:\\Users\\sudee\\OneDrive\\Documents\\Python Scripts\\Instacart Basket Analysis\\02 Data\\Original Data\\orders_products_prior.csv exists.\n"
     ]
    }
   ],
   "source": [
    "import pandas as pd\n",
    "import os\n",
    "\n",
    "# Path to the project folder\n",
    "project_path = r'C:\\Users\\sudee\\OneDrive\\Documents\\Python Scripts\\Instacart Basket Analysis'\n",
    "\n",
    "# Paths to the data files\n",
    "orders_checked_path = os.path.join(project_path, '02 Data', 'Prepared Data', 'orders_checked_clean.csv')\n",
    "products_checked_path = os.path.join(project_path, '02 Data', 'Prepared Data', 'products_checked_clean.csv')\n",
    "orders_products_prior_path = os.path.join(project_path, '02 Data', 'Original Data', 'orders_products_prior.csv')\n",
    "\n",
    "# Function to check if the file exists\n",
    "def check_file_exists(filepath):\n",
    "    print(f\"Checking if {filepath} exists...\")\n",
    "    if not os.path.exists(filepath):\n",
    "        raise FileNotFoundError(f'{filepath} not found. Please check the file path or previous export steps.')\n",
    "    print(f\"{filepath} exists.\")\n",
    "\n",
    "# Check if the necessary files exist\n",
    "check_file_exists(orders_checked_path)\n",
    "check_file_exists(products_checked_path)\n",
    "check_file_exists(orders_products_prior_path)\n"
   ]
  },
  {
   "cell_type": "code",
   "execution_count": 48,
   "id": "7622af07-53cb-4451-8efd-2c53a6d49b70",
   "metadata": {},
   "outputs": [
    {
     "name": "stdout",
     "output_type": "stream",
     "text": [
      "Shape of df_orders: (3421083, 6)\n",
      "Shape of df_products: (49688, 5)\n",
      "Shape of df_orders_prior: (32434489, 4)\n"
     ]
    }
   ],
   "source": [
    "# Load the datasets\n",
    "df_orders = pd.read_csv(orders_checked_path)\n",
    "df_products = pd.read_csv(products_checked_path)\n",
    "df_orders_prior = pd.read_csv(orders_products_prior_path)\n",
    "\n",
    "# Check the dimensions of the imported dataframes\n",
    "print(\"Shape of df_orders:\", df_orders.shape)\n",
    "print(\"Shape of df_products:\", df_products.shape)\n",
    "print(\"Shape of df_orders_prior:\", df_orders_prior.shape)\n"
   ]
  },
  {
   "cell_type": "code",
   "execution_count": 50,
   "id": "9b7f053e-cf7d-4c77-bbc5-8be89d8a2b11",
   "metadata": {},
   "outputs": [
    {
     "name": "stdout",
     "output_type": "stream",
     "text": [
      "Merge flag counts:\n",
      "_merge\n",
      "both          32434489\n",
      "left_only            0\n",
      "right_only           0\n",
      "Name: count, dtype: int64\n",
      "Shape of the merged dataframe: (32434489, 9)\n"
     ]
    }
   ],
   "source": [
    "# Merge the orders data with the orders products prior data\n",
    "df_merged_large = df_orders.merge(df_orders_prior, on='order_id', indicator=True)\n",
    "\n",
    "# Check for full match using the merge flag\n",
    "merge_counts = df_merged_large['_merge'].value_counts()\n",
    "print(\"Merge flag counts:\")\n",
    "print(merge_counts)\n",
    "\n",
    "# Remove the '_merge' column after confirming the merge is as expected\n",
    "df_merged_large = df_merged_large.drop(columns=['_merge'])\n",
    "\n",
    "# Check the shape of the merged dataframe\n",
    "print(\"Shape of the merged dataframe:\", df_merged_large.shape)\n"
   ]
  },
  {
   "cell_type": "code",
   "execution_count": 52,
   "id": "20e543b2-26e5-41d8-a08f-526e57ee508a",
   "metadata": {},
   "outputs": [
    {
     "name": "stdout",
     "output_type": "stream",
     "text": [
      "Merged data saved to C:\\Users\\sudee\\OneDrive\\Documents\\Python Scripts\\Instacart Basket Analysis\\02 Data\\Prepared Data\\orders_products_combined.pkl\n"
     ]
    }
   ],
   "source": [
    "# Path to save the merged data\n",
    "merged_pickle_path = os.path.join(project_path, '02 Data', 'Prepared Data', 'orders_products_combined.pkl')\n",
    "\n",
    "# Export the merged dataframe to a pickle file\n",
    "df_merged_large.to_pickle(merged_pickle_path)\n",
    "\n",
    "print(f\"Merged data saved to {merged_pickle_path}\")\n"
   ]
  },
  {
   "cell_type": "code",
   "execution_count": 54,
   "id": "24ef2eeb-611b-4c0c-9403-1b8907a76931",
   "metadata": {},
   "outputs": [
    {
     "name": "stdout",
     "output_type": "stream",
     "text": [
      "Shape of the imported dataframe (orders_products_combined): (32434489, 9)\n"
     ]
    }
   ],
   "source": [
    "# Import the merged dataframe from the pickle file\n",
    "df_orders_products_combined = pd.read_pickle(merged_pickle_path)\n",
    "\n",
    "# Check the shape of the imported dataframe\n",
    "print(\"Shape of the imported dataframe (orders_products_combined):\", df_orders_products_combined.shape)\n"
   ]
  },
  {
   "cell_type": "code",
   "execution_count": 56,
   "id": "d3cc569e-f24f-4f44-8a99-a51787fbe5e9",
   "metadata": {},
   "outputs": [
    {
     "name": "stdout",
     "output_type": "stream",
     "text": [
      "Final merge flag counts:\n",
      "_merge\n",
      "both          32433030\n",
      "left_only            0\n",
      "right_only           0\n",
      "Name: count, dtype: int64\n",
      "Shape of the final merged dataframe: (32433030, 13)\n"
     ]
    }
   ],
   "source": [
    "# Merge the combined orders and products data\n",
    "df_final_merged = df_orders_products_combined.merge(df_products, on='product_id', indicator=True)\n",
    "\n",
    "# Check for full match using the merge flag\n",
    "final_merge_counts = df_final_merged['_merge'].value_counts()\n",
    "print(\"Final merge flag counts:\")\n",
    "print(final_merge_counts)\n",
    "\n",
    "# Remove the '_merge' column after confirming the merge is as expected\n",
    "df_final_merged = df_final_merged.drop(columns=['_merge'])\n",
    "\n",
    "# Check the shape of the final merged dataframe\n",
    "print(\"Shape of the final merged dataframe:\", df_final_merged.shape)\n"
   ]
  },
  {
   "cell_type": "code",
   "execution_count": 61,
   "id": "0c60cd9c-f93a-4195-b9ae-484169545daf",
   "metadata": {},
   "outputs": [
    {
     "name": "stdout",
     "output_type": "stream",
     "text": [
      "Final merged data saved to C:\\Users\\sudee\\OneDrive\\Documents\\Python Scripts\\Instacart Basket Analysis\\02 Data\\Prepared Data\\ords_prods_merge.pkl\n"
     ]
    }
   ],
   "source": [
    "# Path to save the final merged data\n",
    "final_merged_pickle_path = os.path.join(project_path, '02 Data', 'Prepared Data', 'ords_prods_merge.pkl')\n",
    "\n",
    "# Export the final merged dataframe to a pickle file\n",
    "df_final_merged.to_pickle(final_merged_pickle_path)\n",
    "\n",
    "print(f\"Final merged data saved to {final_merged_pickle_path}\")\n"
   ]
  },
  {
   "cell_type": "markdown",
   "id": "676e2ad6-823d-41e3-97f4-4bba044981b1",
   "metadata": {},
   "source": [
    "# Task 4.6: Combining & Exporting Data\n",
    "\n",
    "## Step 1: Import Libraries and Check File Existence\n",
    "This step includes importing necessary libraries and checking the existence of required data files.\n",
    "\n",
    "## Step 2: Import the Datasets\n",
    "In this step, we import the datasets and check their dimensions to ensure they are loaded correctly.\n",
    "\n",
    "## Step 3: Merge `df_orders` and `df_orders_prior`\n",
    "We merge the `df_orders` and `df_orders_prior` dataframes on the `order_id` column and check for full matches.\n",
    "\n",
    "## Step 4: Export the Merged Data in Pickle Format\n",
    "Export the merged data to a pickle file for efficient storage and retrieval.\n",
    "\n",
    "## Step 5: Import the Merged Data from Pickle Format\n",
    "Import the previously saved pickle file to verify its integrity and correctness.\n",
    "\n",
    "## Step 6: Merge with Products Data\n",
    "Merge the combined orders and products data on the `product_id` column and check for full matches.\n",
    "\n",
    "## Step 7: Export the Final Merged Data\n",
    "Export the final merged dataframe to a pickle file for efficient storage and retrieval.\n"
   ]
  }
 ],
 "metadata": {
  "kernelspec": {
   "display_name": "Python 3 (ipykernel)",
   "language": "python",
   "name": "python3"
  },
  "language_info": {
   "codemirror_mode": {
    "name": "ipython",
    "version": 3
   },
   "file_extension": ".py",
   "mimetype": "text/x-python",
   "name": "python",
   "nbconvert_exporter": "python",
   "pygments_lexer": "ipython3",
   "version": "3.12.4"
  }
 },
 "nbformat": 4,
 "nbformat_minor": 5
}
