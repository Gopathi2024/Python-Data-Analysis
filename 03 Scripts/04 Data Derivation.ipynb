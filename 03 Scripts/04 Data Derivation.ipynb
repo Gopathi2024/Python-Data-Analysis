{
 "cells": [
  {
   "cell_type": "code",
   "execution_count": 45,
   "id": "673a122a-3b61-42e3-9260-fe37a7fc4893",
   "metadata": {
    "scrolled": true
   },
   "outputs": [
    {
     "name": "stdout",
     "output_type": "stream",
     "text": [
      "df_ords shape: (3421083, 6)\n",
      "df_prods shape: (49688, 5)\n",
      "df_ords_prior shape: (6, 13)\n"
     ]
    }
   ],
   "source": [
    "# Import necessary libraries\n",
    "import pandas as pd\n",
    "import numpy as np\n",
    "import os\n",
    "\n",
    "# Set path to the main project directory\n",
    "path = r'C:\\Users\\sudee\\OneDrive\\Documents\\Python Scripts\\Instacart Basket Analysis\\02 Data'\n",
    "\n",
    "# Load datasets\n",
    "df_ords = pd.read_csv(os.path.join(path, 'Prepared Data', 'orders_checked_clean.csv'))\n",
    "df_prods = pd.read_csv(os.path.join(path, 'Prepared Data', 'products_checked_clean.csv'))\n",
    "df_ords_prior = pd.read_csv(os.path.join(path, 'Prepared Data', 'orders_products_combined.csv'))\n",
    "\n",
    "# Check the shapes of the datasets\n",
    "print('df_ords shape:', df_ords.shape)\n",
    "print('df_prods shape:', df_prods.shape)\n",
    "print('df_ords_prior shape:', df_ords_prior.shape)\n",
    "\n",
    "\n"
   ]
  },
  {
   "cell_type": "code",
   "execution_count": 47,
   "id": "00a398b8-989c-482f-aff8-85911342774a",
   "metadata": {},
   "outputs": [
    {
     "name": "stdout",
     "output_type": "stream",
     "text": [
      "df_merged_large shape: (6, 22)\n",
      "Columns in df_merged_large: Index(['order_id', 'user_id_x', 'order_number_x', 'order_day_of_week_x',\n",
      "       'order_hour_of_day_x', 'days_since_prior_order_x', 'product_id',\n",
      "       'add_to_cart_order', 'reordered', 'product_name_x', 'aisle_id_x',\n",
      "       'department_id_x', 'prices_x', 'user_id_y', 'order_number_y',\n",
      "       'order_day_of_week_y', 'order_hour_of_day_y',\n",
      "       'days_since_prior_order_y', 'product_name_y', 'aisle_id_y',\n",
      "       'department_id_y', 'prices_y'],\n",
      "      dtype='object')\n"
     ]
    }
   ],
   "source": [
    "# Merge the datasets\n",
    "df_merged = pd.merge(df_ords_prior, df_ords, on='order_id', how='inner')\n",
    "df_merged_large = pd.merge(df_merged, df_prods, on='product_id', how='inner')\n",
    "\n",
    "# Check the shape and columns of the merged dataframe\n",
    "print(\"df_merged_large shape:\", df_merged_large.shape)\n",
    "print(\"Columns in df_merged_large:\", df_merged_large.columns)\n"
   ]
  },
  {
   "cell_type": "code",
   "execution_count": 49,
   "id": "9c5be6c8-604b-49ef-8008-084989485524",
   "metadata": {},
   "outputs": [
    {
     "name": "stdout",
     "output_type": "stream",
     "text": [
      "df_merged_large shape after renaming and dropping duplicates: (6, 13)\n",
      "Columns in df_merged_large after renaming and dropping duplicates: Index(['order_id', 'user_id', 'order_number', 'order_day_of_week',\n",
      "       'order_hour_of_day', 'days_since_prior_order', 'product_id',\n",
      "       'add_to_cart_order', 'reordered', 'product_name', 'aisle_id',\n",
      "       'department_id', 'prices'],\n",
      "      dtype='object')\n"
     ]
    }
   ],
   "source": [
    "# Rename columns to remove duplication\n",
    "df_merged_large.rename(columns={\n",
    "    'user_id_x': 'user_id',\n",
    "    'order_number_x': 'order_number',\n",
    "    'order_day_of_week_x': 'order_day_of_week',\n",
    "    'order_hour_of_day_x': 'order_hour_of_day',\n",
    "    'days_since_prior_order_x': 'days_since_prior_order',\n",
    "    'product_name_x': 'product_name',\n",
    "    'aisle_id_x': 'aisle_id',\n",
    "    'department_id_x': 'department_id',\n",
    "    'prices_x': 'prices'\n",
    "}, inplace=True)\n",
    "\n",
    "# Drop duplicate columns\n",
    "df_merged_large.drop(columns=[\n",
    "    'user_id_y', 'order_number_y', 'order_day_of_week_y',\n",
    "    'order_hour_of_day_y', 'days_since_prior_order_y',\n",
    "    'product_name_y', 'aisle_id_y', 'department_id_y', 'prices_y'\n",
    "], inplace=True)\n",
    "\n",
    "# Check the shape and columns of the cleaned dataframe\n",
    "print(\"df_merged_large shape after renaming and dropping duplicates:\", df_merged_large.shape)\n",
    "print(\"Columns in df_merged_large after renaming and dropping duplicates:\", df_merged_large.columns)\n"
   ]
  },
  {
   "cell_type": "code",
   "execution_count": 51,
   "id": "6291c138-e17a-4c7f-8ebd-c43e0e4da551",
   "metadata": {},
   "outputs": [],
   "source": [
    "# Deriving a new column for price range using loc\n",
    "df_merged_large.loc[df_merged_large['prices'] <= 5, 'price_range'] = 'Low-range product'\n",
    "df_merged_large.loc[(df_merged_large['prices'] > 5) & (df_merged_large['prices'] <= 15), 'price_range'] = 'Mid-range product'\n",
    "df_merged_large.loc[df_merged_large['prices'] > 15, 'price_range'] = 'High-range product'\n"
   ]
  },
  {
   "cell_type": "code",
   "execution_count": 53,
   "id": "f5994f59-6092-4c3a-9ebe-4d04e05af681",
   "metadata": {},
   "outputs": [],
   "source": [
    "# Deriving a new column for loyalty flag using transform and loc\n",
    "df_merged_large['max_order'] = df_merged_large.groupby(['user_id'])['order_number'].transform('max')\n",
    "df_merged_large.loc[df_merged_large['max_order'] > 40, 'loyalty_flag'] = 'Loyal customer'\n",
    "df_merged_large.loc[(df_merged_large['max_order'] <= 40) & (df_merged_large['max_order'] > 10), 'loyalty_flag'] = 'Regular customer'\n",
    "df_merged_large.loc[df_merged_large['max_order'] <= 10, 'loyalty_flag'] = 'New customer'\n"
   ]
  },
  {
   "cell_type": "code",
   "execution_count": 55,
   "id": "95a69c14-327f-4b78-beae-70fba5e05cb6",
   "metadata": {},
   "outputs": [],
   "source": [
    "# Deriving a new column for spending flag using transform and loc\n",
    "df_merged_large['avg_price'] = df_merged_large.groupby(['user_id'])['prices'].transform('mean')\n",
    "df_merged_large.loc[df_merged_large['avg_price'] < 10, 'spending_flag'] = 'Low spender'\n",
    "df_merged_large.loc[df_merged_large['avg_price'] >= 10, 'spending_flag'] = 'High spender'\n"
   ]
  },
  {
   "cell_type": "code",
   "execution_count": 57,
   "id": "abf6be37-d8b8-46d7-81ea-d00bbbe70c1b",
   "metadata": {},
   "outputs": [],
   "source": [
    "# Deriving a new column for order frequency flag using transform and loc\n",
    "df_merged_large['median_days_since_prior_order'] = df_merged_large.groupby(['user_id'])['days_since_prior_order'].transform('median')\n",
    "df_merged_large.loc[df_merged_large['median_days_since_prior_order'] > 20, 'order_frequency_flag'] = 'Non-frequent customer'\n",
    "df_merged_large.loc[(df_merged_large['median_days_since_prior_order'] > 10) & (df_merged_large['median_days_since_prior_order'] <= 20), 'order_frequency_flag'] = 'Regular customer'\n",
    "df_merged_large.loc[df_merged_large['median_days_since_prior_order'] <= 10, 'order_frequency_flag'] = 'Frequent customer'\n"
   ]
  },
  {
   "cell_type": "code",
   "execution_count": 59,
   "id": "31efdb8d-52b3-468f-9cb8-982eb8cd64e8",
   "metadata": {},
   "outputs": [
    {
     "name": "stdout",
     "output_type": "stream",
     "text": [
      "df_merged_large shape: (6, 20)\n",
      "Columns in df_merged_large: Index(['order_id', 'user_id', 'order_number', 'order_day_of_week',\n",
      "       'order_hour_of_day', 'days_since_prior_order', 'product_id',\n",
      "       'add_to_cart_order', 'reordered', 'product_name', 'aisle_id',\n",
      "       'department_id', 'prices', 'price_range', 'max_order', 'loyalty_flag',\n",
      "       'avg_price', 'spending_flag', 'median_days_since_prior_order',\n",
      "       'order_frequency_flag'],\n",
      "      dtype='object')\n",
      "   order_id  user_id  order_number  order_day_of_week  order_hour_of_day  \\\n",
      "0         1   112108             4                  4                 10   \n",
      "1         1   112108             4                  4                 10   \n",
      "2         2   202279             3                  5                  9   \n",
      "3         2   202279             3                  5                  9   \n",
      "4         3   205970            16                  5                 17   \n",
      "\n",
      "   days_since_prior_order  product_id  add_to_cart_order  reordered  \\\n",
      "0                     9.0         101                  1          0   \n",
      "1                     9.0         102                  2          1   \n",
      "2                     8.0         101                  1          0   \n",
      "3                     8.0         103                  2          1   \n",
      "4                    12.0         102                  1          0   \n",
      "\n",
      "                 product_name  aisle_id  department_id  prices  \\\n",
      "0  Bread, Healthy Whole Grain       112              3     5.2   \n",
      "1       Danish Butter Cookies        61             19     5.5   \n",
      "2  Bread, Healthy Whole Grain       112              3     5.2   \n",
      "3       Sprouted Kale Cracker        78             19     6.4   \n",
      "4       Danish Butter Cookies        61             19     5.5   \n",
      "\n",
      "         price_range  max_order      loyalty_flag  avg_price spending_flag  \\\n",
      "0  Mid-range product          4      New customer       5.35   Low spender   \n",
      "1  Mid-range product          4      New customer       5.35   Low spender   \n",
      "2  Mid-range product          3      New customer       5.80   Low spender   \n",
      "3  Mid-range product          3      New customer       5.80   Low spender   \n",
      "4  Mid-range product         16  Regular customer       5.25   Low spender   \n",
      "\n",
      "   median_days_since_prior_order order_frequency_flag  \n",
      "0                            9.0    Frequent customer  \n",
      "1                            9.0    Frequent customer  \n",
      "2                            8.0    Frequent customer  \n",
      "3                            8.0    Frequent customer  \n",
      "4                           12.0     Regular customer  \n"
     ]
    }
   ],
   "source": [
    "# Check the shape and columns of the final dataframe\n",
    "print(\"df_merged_large shape:\", df_merged_large.shape)\n",
    "print(\"Columns in df_merged_large:\", df_merged_large.columns)\n",
    "\n",
    "# Display first few rows of the final dataframe\n",
    "print(df_merged_large.head())\n"
   ]
  },
  {
   "cell_type": "code",
   "execution_count": 61,
   "id": "f6f881c9-f08f-48b9-8e2f-ba06177ff9b8",
   "metadata": {},
   "outputs": [],
   "source": [
    "# Export the final dataframe as a pickle file\n",
    "df_merged_large.to_pickle(os.path.join(path, 'orders_products_combined_updated.pkl'))\n"
   ]
  },
  {
   "cell_type": "code",
   "execution_count": 63,
   "id": "9e78a535-a375-4fc1-8526-995b28fa2f7a",
   "metadata": {},
   "outputs": [
    {
     "name": "stdout",
     "output_type": "stream",
     "text": [
      "Frequency of price_range:\n",
      "         price_range  frequency\n",
      "0  Mid-range product          5\n",
      "1  Low-range product          1\n"
     ]
    }
   ],
   "source": [
    "# Frequency of price_range\n",
    "price_range_freq = df_merged_large['price_range'].value_counts().reset_index()\n",
    "price_range_freq.columns = ['price_range', 'frequency']\n",
    "print(\"Frequency of price_range:\")\n",
    "print(price_range_freq)\n"
   ]
  },
  {
   "cell_type": "code",
   "execution_count": 65,
   "id": "c8fdebfb-dcbd-43d6-9eec-3a2b618940c8",
   "metadata": {},
   "outputs": [
    {
     "name": "stdout",
     "output_type": "stream",
     "text": [
      "Frequency of loyalty_flag:\n",
      "       loyalty_flag  frequency\n",
      "0      New customer          4\n",
      "1  Regular customer          2\n"
     ]
    }
   ],
   "source": [
    "# Frequency of loyalty_flag\n",
    "loyalty_flag_freq = df_merged_large['loyalty_flag'].value_counts().reset_index()\n",
    "loyalty_flag_freq.columns = ['loyalty_flag', 'frequency']\n",
    "print(\"Frequency of loyalty_flag:\")\n",
    "print(loyalty_flag_freq)\n"
   ]
  },
  {
   "cell_type": "code",
   "execution_count": 67,
   "id": "165ef51c-4f63-4aa6-9139-63685b3c0de8",
   "metadata": {},
   "outputs": [
    {
     "name": "stdout",
     "output_type": "stream",
     "text": [
      "Frequency of spending_flag:\n",
      "  spending_flag  frequency\n",
      "0   Low spender          6\n"
     ]
    }
   ],
   "source": [
    "# Frequency of spending_flag\n",
    "spending_flag_freq = df_merged_large['spending_flag'].value_counts().reset_index()\n",
    "spending_flag_freq.columns = ['spending_flag', 'frequency']\n",
    "print(\"Frequency of spending_flag:\")\n",
    "print(spending_flag_freq)\n"
   ]
  },
  {
   "cell_type": "code",
   "execution_count": 69,
   "id": "606c5b3e-ed83-4725-9f9c-5804d3decff0",
   "metadata": {},
   "outputs": [
    {
     "name": "stdout",
     "output_type": "stream",
     "text": [
      "Frequency of order_frequency_flag:\n",
      "  order_frequency_flag  frequency\n",
      "0    Frequent customer          4\n",
      "1     Regular customer          2\n"
     ]
    }
   ],
   "source": [
    "# Frequency of order_frequency_flag\n",
    "order_frequency_flag_freq = df_merged_large['order_frequency_flag'].value_counts().reset_index()\n",
    "order_frequency_flag_freq.columns = ['order_frequency_flag', 'frequency']\n",
    "print(\"Frequency of order_frequency_flag:\")\n",
    "print(order_frequency_flag_freq)\n"
   ]
  },
  {
   "cell_type": "code",
   "execution_count": null,
   "id": "db5439de-5f56-419f-8b3e-9a7f12bd4323",
   "metadata": {},
   "outputs": [],
   "source": []
  }
 ],
 "metadata": {
  "kernelspec": {
   "display_name": "Python 3 (ipykernel)",
   "language": "python",
   "name": "python3"
  },
  "language_info": {
   "codemirror_mode": {
    "name": "ipython",
    "version": 3
   },
   "file_extension": ".py",
   "mimetype": "text/x-python",
   "name": "python",
   "nbconvert_exporter": "python",
   "pygments_lexer": "ipython3",
   "version": "3.12.4"
  }
 },
 "nbformat": 4,
 "nbformat_minor": 5
}
