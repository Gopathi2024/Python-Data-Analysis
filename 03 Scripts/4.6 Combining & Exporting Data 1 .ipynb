{
 "cells": [
  {
   "cell_type": "code",
   "execution_count": 7,
   "id": "b253ee42-e678-452f-9d8e-db59d33f48e3",
   "metadata": {},
   "outputs": [
    {
     "name": "stdout",
     "output_type": "stream",
     "text": [
      "Checking if C:\\Users\\sudee\\OneDrive\\Documents\\Python Scripts\\Instacart Basket Analysis\\02 Data\\Prepared Data\\orders_checked_clean.csv exists...\n",
      "C:\\Users\\sudee\\OneDrive\\Documents\\Python Scripts\\Instacart Basket Analysis\\02 Data\\Prepared Data\\orders_checked_clean.csv exists.\n",
      "Checking if C:\\Users\\sudee\\OneDrive\\Documents\\Python Scripts\\Instacart Basket Analysis\\02 Data\\Original Data\\orders_products_prior.csv exists...\n",
      "C:\\Users\\sudee\\OneDrive\\Documents\\Python Scripts\\Instacart Basket Analysis\\02 Data\\Original Data\\orders_products_prior.csv exists.\n",
      "Checking if C:\\Users\\sudee\\OneDrive\\Documents\\Python Scripts\\Instacart Basket Analysis\\02 Data\\Prepared Data\\products_checked_clean.csv exists...\n",
      "C:\\Users\\sudee\\OneDrive\\Documents\\Python Scripts\\Instacart Basket Analysis\\02 Data\\Prepared Data\\products_checked_clean.csv exists.\n",
      "df_orders shape: (3421083, 6)\n",
      "df_orders_prior shape: (32434489, 4)\n",
      "df_products shape: (49688, 5)\n"
     ]
    }
   ],
   "source": [
    "# Import necessary libraries\n",
    "import pandas as pd\n",
    "import os\n",
    "\n",
    "# Path to the project folder\n",
    "project_path = r'C:\\Users\\sudee\\OneDrive\\Documents\\Python Scripts\\Instacart Basket Analysis'\n",
    "\n",
    "# Paths to the data files\n",
    "orders_checked_path = os.path.join(project_path, '02 Data', 'Prepared Data', 'orders_checked_clean.csv')\n",
    "orders_products_prior_path = os.path.join(project_path, '02 Data', 'Original Data', 'orders_products_prior.csv')\n",
    "products_checked_path = os.path.join(project_path, '02 Data', 'Prepared Data', 'products_checked_clean.csv')\n",
    "\n",
    "# Function to check if the file exists\n",
    "def check_file_exists(filepath):\n",
    "    print(f\"Checking if {filepath} exists...\")\n",
    "    if not os.path.exists(filepath):\n",
    "        raise FileNotFoundError(f'{filepath} not found. Please check the file path or previous export steps.')\n",
    "    print(f\"{filepath} exists.\")\n",
    "\n",
    "# Check if the necessary files exist\n",
    "check_file_exists(orders_checked_path)\n",
    "check_file_exists(orders_products_prior_path)\n",
    "check_file_exists(products_checked_path)\n",
    "\n",
    "# Load the datasets\n",
    "df_orders = pd.read_csv(orders_checked_path)\n",
    "df_orders_prior = pd.read_csv(orders_products_prior_path)\n",
    "df_products = pd.read_csv(products_checked_path)\n",
    "\n",
    "# Check the shapes of the datasets\n",
    "print('df_orders shape:', df_orders.shape)\n",
    "print('df_orders_prior shape:', df_orders_prior.shape)\n",
    "print('df_products shape:', df_products.shape)\n"
   ]
  },
  {
   "cell_type": "markdown",
   "id": "4f39f81f-2771-4ea6-a862-22e6392c7c3e",
   "metadata": {},
   "source": [
    "## Step 2: Merge the Orders Data with Orders Products Prior Data\n",
    "\n",
    "We merge the orders data with the orders products prior data.\n"
   ]
  },
  {
   "cell_type": "code",
   "execution_count": 9,
   "id": "6627b01a-f10e-4142-a926-8d1d29eaa9ba",
   "metadata": {},
   "outputs": [
    {
     "name": "stdout",
     "output_type": "stream",
     "text": [
      "Merge flag counts:\n",
      "_merge\n",
      "both          32434489\n",
      "left_only            0\n",
      "right_only           0\n",
      "Name: count, dtype: int64\n",
      "Shape of the merged dataframe: (32434489, 9)\n"
     ]
    }
   ],
   "source": [
    "# Merge the orders data with the orders products prior data\n",
    "df_merged_large = df_orders.merge(df_orders_prior, on='order_id', indicator=True)\n",
    "\n",
    "# Check for full match using the merge flag\n",
    "merge_counts = df_merged_large['_merge'].value_counts()\n",
    "print(\"Merge flag counts:\")\n",
    "print(merge_counts)\n",
    "\n",
    "# Remove the '_merge' column after confirming the merge is as expected\n",
    "df_merged_large = df_merged_large.drop(columns=['_merge'])\n",
    "\n",
    "# Check the shape of the merged dataframe\n",
    "print(\"Shape of the merged dataframe:\", df_merged_large.shape)\n"
   ]
  },
  {
   "cell_type": "markdown",
   "id": "90606b9b-0362-4e2c-b17d-1662b681eacb",
   "metadata": {},
   "source": [
    "## Step 3: Export the Merged Data as a Pickle File\n",
    "\n",
    "We export the merged data as a pickle file.\n"
   ]
  },
  {
   "cell_type": "code",
   "execution_count": 10,
   "id": "1ea462e9-7261-446c-af7c-124d8cd3fea5",
   "metadata": {},
   "outputs": [
    {
     "name": "stdout",
     "output_type": "stream",
     "text": [
      "Merged data saved to C:\\Users\\sudee\\OneDrive\\Documents\\Python Scripts\\Instacart Basket Analysis\\02 Data\\Prepared Data\\orders_products_combined.pkl\n"
     ]
    }
   ],
   "source": [
    "# Path to save the merged data\n",
    "merged_data_path = os.path.join(project_path, '02 Data', 'Prepared Data', 'orders_products_combined.pkl')\n",
    "\n",
    "# Export the merged data as a pickle file\n",
    "df_merged_large.to_pickle(merged_data_path)\n",
    "print(f\"Merged data saved to {merged_data_path}\")\n"
   ]
  },
  {
   "cell_type": "code",
   "execution_count": 12,
   "id": "4e05cd5a-0871-4b87-8097-429a627041ee",
   "metadata": {},
   "outputs": [
    {
     "name": "stdout",
     "output_type": "stream",
     "text": [
      "Shape of the imported dataframe: (32434489, 9)\n"
     ]
    }
   ],
   "source": [
    "# Import the merged data from the pickle file\n",
    "df_orders_products_combined = pd.read_pickle(merged_data_path)\n",
    "\n",
    "# Check the shape of the imported dataframe\n",
    "print(\"Shape of the imported dataframe:\", df_orders_products_combined.shape)\n"
   ]
  },
  {
   "cell_type": "code",
   "execution_count": null,
   "id": "db710f07-17e0-45bd-9ca9-6664a9a61c1b",
   "metadata": {},
   "outputs": [],
   "source": []
  }
 ],
 "metadata": {
  "kernelspec": {
   "display_name": "Python 3 (ipykernel)",
   "language": "python",
   "name": "python3"
  },
  "language_info": {
   "codemirror_mode": {
    "name": "ipython",
    "version": 3
   },
   "file_extension": ".py",
   "mimetype": "text/x-python",
   "name": "python",
   "nbconvert_exporter": "python",
   "pygments_lexer": "ipython3",
   "version": "3.12.4"
  }
 },
 "nbformat": 4,
 "nbformat_minor": 5
}
