{
 "cells": [
  {
   "cell_type": "code",
   "execution_count": 1,
   "id": "e423d44e-5cc9-4f26-8d4d-bc771adf2280",
   "metadata": {},
   "outputs": [],
   "source": [
    "import pandas as pd\n",
    "import numpy as np\n",
    "import matplotlib.pyplot as plt\n",
    "import seaborn as sns\n",
    "\n"
   ]
  },
  {
   "cell_type": "code",
   "execution_count": 3,
   "id": "e869bd32-3a2b-48bd-bf7a-9cd07c4abca0",
   "metadata": {},
   "outputs": [
    {
     "data": {
      "text/html": [
       "<div>\n",
       "<style scoped>\n",
       "    .dataframe tbody tr th:only-of-type {\n",
       "        vertical-align: middle;\n",
       "    }\n",
       "\n",
       "    .dataframe tbody tr th {\n",
       "        vertical-align: top;\n",
       "    }\n",
       "\n",
       "    .dataframe thead th {\n",
       "        text-align: right;\n",
       "    }\n",
       "</style>\n",
       "<table border=\"1\" class=\"dataframe\">\n",
       "  <thead>\n",
       "    <tr style=\"text-align: right;\">\n",
       "      <th></th>\n",
       "      <th>order_id</th>\n",
       "      <th>user_id</th>\n",
       "      <th>order_number</th>\n",
       "      <th>order_day_of_week</th>\n",
       "      <th>order_hour_of_day</th>\n",
       "      <th>days_since_prior_order</th>\n",
       "      <th>product_id</th>\n",
       "      <th>add_to_cart_order</th>\n",
       "      <th>reordered</th>\n",
       "      <th>prices</th>\n",
       "      <th>...</th>\n",
       "      <th>spending_flag</th>\n",
       "      <th>order_frequency_flag</th>\n",
       "      <th>surname</th>\n",
       "      <th>Gender</th>\n",
       "      <th>STATE</th>\n",
       "      <th>age</th>\n",
       "      <th>date_joined</th>\n",
       "      <th>n_dependants</th>\n",
       "      <th>fam_status</th>\n",
       "      <th>income</th>\n",
       "    </tr>\n",
       "  </thead>\n",
       "  <tbody>\n",
       "    <tr>\n",
       "      <th>0</th>\n",
       "      <td>2539329</td>\n",
       "      <td>1</td>\n",
       "      <td>1</td>\n",
       "      <td>2</td>\n",
       "      <td>8</td>\n",
       "      <td>11.114836</td>\n",
       "      <td>196</td>\n",
       "      <td>1</td>\n",
       "      <td>0</td>\n",
       "      <td>9.0</td>\n",
       "      <td>...</td>\n",
       "      <td>Low spender</td>\n",
       "      <td>Regular customer</td>\n",
       "      <td>Nguyen</td>\n",
       "      <td>Female</td>\n",
       "      <td>Alabama</td>\n",
       "      <td>31</td>\n",
       "      <td>2/17/2019</td>\n",
       "      <td>3</td>\n",
       "      <td>married</td>\n",
       "      <td>40423</td>\n",
       "    </tr>\n",
       "    <tr>\n",
       "      <th>1</th>\n",
       "      <td>2539329</td>\n",
       "      <td>1</td>\n",
       "      <td>1</td>\n",
       "      <td>2</td>\n",
       "      <td>8</td>\n",
       "      <td>11.114836</td>\n",
       "      <td>14084</td>\n",
       "      <td>2</td>\n",
       "      <td>0</td>\n",
       "      <td>12.5</td>\n",
       "      <td>...</td>\n",
       "      <td>Low spender</td>\n",
       "      <td>Regular customer</td>\n",
       "      <td>Nguyen</td>\n",
       "      <td>Female</td>\n",
       "      <td>Alabama</td>\n",
       "      <td>31</td>\n",
       "      <td>2/17/2019</td>\n",
       "      <td>3</td>\n",
       "      <td>married</td>\n",
       "      <td>40423</td>\n",
       "    </tr>\n",
       "    <tr>\n",
       "      <th>2</th>\n",
       "      <td>2539329</td>\n",
       "      <td>1</td>\n",
       "      <td>1</td>\n",
       "      <td>2</td>\n",
       "      <td>8</td>\n",
       "      <td>11.114836</td>\n",
       "      <td>12427</td>\n",
       "      <td>3</td>\n",
       "      <td>0</td>\n",
       "      <td>4.4</td>\n",
       "      <td>...</td>\n",
       "      <td>Low spender</td>\n",
       "      <td>Regular customer</td>\n",
       "      <td>Nguyen</td>\n",
       "      <td>Female</td>\n",
       "      <td>Alabama</td>\n",
       "      <td>31</td>\n",
       "      <td>2/17/2019</td>\n",
       "      <td>3</td>\n",
       "      <td>married</td>\n",
       "      <td>40423</td>\n",
       "    </tr>\n",
       "    <tr>\n",
       "      <th>3</th>\n",
       "      <td>2539329</td>\n",
       "      <td>1</td>\n",
       "      <td>1</td>\n",
       "      <td>2</td>\n",
       "      <td>8</td>\n",
       "      <td>11.114836</td>\n",
       "      <td>26088</td>\n",
       "      <td>4</td>\n",
       "      <td>0</td>\n",
       "      <td>4.7</td>\n",
       "      <td>...</td>\n",
       "      <td>Low spender</td>\n",
       "      <td>Regular customer</td>\n",
       "      <td>Nguyen</td>\n",
       "      <td>Female</td>\n",
       "      <td>Alabama</td>\n",
       "      <td>31</td>\n",
       "      <td>2/17/2019</td>\n",
       "      <td>3</td>\n",
       "      <td>married</td>\n",
       "      <td>40423</td>\n",
       "    </tr>\n",
       "    <tr>\n",
       "      <th>4</th>\n",
       "      <td>2539329</td>\n",
       "      <td>1</td>\n",
       "      <td>1</td>\n",
       "      <td>2</td>\n",
       "      <td>8</td>\n",
       "      <td>11.114836</td>\n",
       "      <td>26405</td>\n",
       "      <td>5</td>\n",
       "      <td>0</td>\n",
       "      <td>1.0</td>\n",
       "      <td>...</td>\n",
       "      <td>Low spender</td>\n",
       "      <td>Regular customer</td>\n",
       "      <td>Nguyen</td>\n",
       "      <td>Female</td>\n",
       "      <td>Alabama</td>\n",
       "      <td>31</td>\n",
       "      <td>2/17/2019</td>\n",
       "      <td>3</td>\n",
       "      <td>married</td>\n",
       "      <td>40423</td>\n",
       "    </tr>\n",
       "  </tbody>\n",
       "</table>\n",
       "<p>5 rows × 25 columns</p>\n",
       "</div>"
      ],
      "text/plain": [
       "   order_id  user_id  order_number  order_day_of_week  order_hour_of_day  \\\n",
       "0   2539329        1             1                  2                  8   \n",
       "1   2539329        1             1                  2                  8   \n",
       "2   2539329        1             1                  2                  8   \n",
       "3   2539329        1             1                  2                  8   \n",
       "4   2539329        1             1                  2                  8   \n",
       "\n",
       "   days_since_prior_order  product_id  add_to_cart_order  reordered  prices  \\\n",
       "0               11.114836         196                  1          0     9.0   \n",
       "1               11.114836       14084                  2          0    12.5   \n",
       "2               11.114836       12427                  3          0     4.4   \n",
       "3               11.114836       26088                  4          0     4.7   \n",
       "4               11.114836       26405                  5          0     1.0   \n",
       "\n",
       "   ... spending_flag order_frequency_flag surname  Gender    STATE age  \\\n",
       "0  ...   Low spender     Regular customer  Nguyen  Female  Alabama  31   \n",
       "1  ...   Low spender     Regular customer  Nguyen  Female  Alabama  31   \n",
       "2  ...   Low spender     Regular customer  Nguyen  Female  Alabama  31   \n",
       "3  ...   Low spender     Regular customer  Nguyen  Female  Alabama  31   \n",
       "4  ...   Low spender     Regular customer  Nguyen  Female  Alabama  31   \n",
       "\n",
       "  date_joined n_dependants fam_status income  \n",
       "0   2/17/2019            3    married  40423  \n",
       "1   2/17/2019            3    married  40423  \n",
       "2   2/17/2019            3    married  40423  \n",
       "3   2/17/2019            3    married  40423  \n",
       "4   2/17/2019            3    married  40423  \n",
       "\n",
       "[5 rows x 25 columns]"
      ]
     },
     "execution_count": 3,
     "metadata": {},
     "output_type": "execute_result"
    }
   ],
   "source": [
    "# Load the data\n",
    "df_combined_with_customers = pd.read_pickle(r'C:\\Users\\sudee\\OneDrive\\Documents\\Python Scripts\\Instacart Basket Analysis\\02 Data\\Prepared Data\\combined_with_customers.pkl')\n",
    "\n",
    "# Verify the first few rows\n",
    "df_combined_with_customers.head()\n"
   ]
  },
  {
   "cell_type": "code",
   "execution_count": 5,
   "id": "23eff069-7429-4b2e-a804-1c4d9a2e1290",
   "metadata": {},
   "outputs": [
    {
     "data": {
      "text/html": [
       "<div>\n",
       "<style scoped>\n",
       "    .dataframe tbody tr th:only-of-type {\n",
       "        vertical-align: middle;\n",
       "    }\n",
       "\n",
       "    .dataframe tbody tr th {\n",
       "        vertical-align: top;\n",
       "    }\n",
       "\n",
       "    .dataframe thead th {\n",
       "        text-align: right;\n",
       "    }\n",
       "</style>\n",
       "<table border=\"1\" class=\"dataframe\">\n",
       "  <thead>\n",
       "    <tr style=\"text-align: right;\">\n",
       "      <th></th>\n",
       "      <th>STATE</th>\n",
       "      <th>Region</th>\n",
       "    </tr>\n",
       "  </thead>\n",
       "  <tbody>\n",
       "    <tr>\n",
       "      <th>0</th>\n",
       "      <td>Alabama</td>\n",
       "      <td>South</td>\n",
       "    </tr>\n",
       "    <tr>\n",
       "      <th>1</th>\n",
       "      <td>Alabama</td>\n",
       "      <td>South</td>\n",
       "    </tr>\n",
       "    <tr>\n",
       "      <th>2</th>\n",
       "      <td>Alabama</td>\n",
       "      <td>South</td>\n",
       "    </tr>\n",
       "    <tr>\n",
       "      <th>3</th>\n",
       "      <td>Alabama</td>\n",
       "      <td>South</td>\n",
       "    </tr>\n",
       "    <tr>\n",
       "      <th>4</th>\n",
       "      <td>Alabama</td>\n",
       "      <td>South</td>\n",
       "    </tr>\n",
       "  </tbody>\n",
       "</table>\n",
       "</div>"
      ],
      "text/plain": [
       "     STATE Region\n",
       "0  Alabama  South\n",
       "1  Alabama  South\n",
       "2  Alabama  South\n",
       "3  Alabama  South\n",
       "4  Alabama  South"
      ]
     },
     "execution_count": 5,
     "metadata": {},
     "output_type": "execute_result"
    }
   ],
   "source": [
    "# Define the regions based on the information from Wikipedia\n",
    "region_mapping = {\n",
    "    'Northeast': ['Maine', 'New Hampshire', 'Vermont', 'Massachusetts', 'Rhode Island', 'Connecticut', 'New York', 'Pennsylvania', 'New Jersey'],\n",
    "    'Midwest': ['Wisconsin', 'Michigan', 'Illinois', 'Indiana', 'Ohio', 'North Dakota', 'South Dakota', 'Nebraska', 'Kansas', 'Minnesota', 'Iowa', 'Missouri'],\n",
    "    'South': ['Delaware', 'Maryland', 'District of Columbia', 'Virginia', 'West Virginia', 'North Carolina', 'South Carolina', 'Georgia', 'Florida', 'Kentucky', 'Tennessee', 'Mississippi', 'Alabama', 'Oklahoma', 'Texas', 'Arkansas', 'Louisiana'],\n",
    "    'West': ['Idaho', 'Montana', 'Wyoming', 'Nevada', 'Utah', 'Colorado', 'Arizona', 'New Mexico', 'Alaska', 'Washington', 'Oregon', 'California', 'Hawaii']\n",
    "}\n",
    "\n",
    "# Create a reverse mapping for easier assignment\n",
    "state_to_region = {state: region for region, states in region_mapping.items() for state in states}\n",
    "\n",
    "# Map the state column to the corresponding region\n",
    "df_combined_with_customers['Region'] = df_combined_with_customers['STATE'].map(state_to_region)\n",
    "\n",
    "# Verify the new column\n",
    "df_combined_with_customers[['STATE', 'Region']].head()\n"
   ]
  },
  {
   "cell_type": "code",
   "execution_count": 7,
   "id": "5377c80b-b6b9-4315-9875-0d513c0fea4c",
   "metadata": {},
   "outputs": [
    {
     "data": {
      "text/plain": [
       "Index(['order_id', 'user_id', 'order_number', 'order_day_of_week',\n",
       "       'order_hour_of_day', 'days_since_prior_order', 'product_id',\n",
       "       'add_to_cart_order', 'reordered', 'prices', 'price_label',\n",
       "       'busiest_day', 'busiest_period_of_day', 'department_id',\n",
       "       'reorder_frequency', 'spending_flag', 'order_frequency_flag', 'Gender',\n",
       "       'STATE', 'age', 'date_joined', 'n_dependants', 'fam_status', 'income',\n",
       "       'Region'],\n",
       "      dtype='object')"
      ]
     },
     "execution_count": 7,
     "metadata": {},
     "output_type": "execute_result"
    }
   ],
   "source": [
    "# Assuming 'first_name' and 'surname' are PII, remove them\n",
    "df_combined_with_customers.drop(columns=['surname'], inplace=True)\n",
    "\n",
    "# Verify the columns\n",
    "df_combined_with_customers.columns\n",
    "\n"
   ]
  },
  {
   "cell_type": "code",
   "execution_count": 9,
   "id": "d8b8697a-3db2-416f-88b5-e1bf8f36de2f",
   "metadata": {},
   "outputs": [
    {
     "data": {
      "text/plain": [
       "Region\n",
       "South        10802354\n",
       "West          8300889\n",
       "Midwest       7604326\n",
       "Northeast     5728630\n",
       "Name: count, dtype: int64"
      ]
     },
     "execution_count": 9,
     "metadata": {},
     "output_type": "execute_result"
    }
   ],
   "source": [
    "# Define the regions\n",
    "region_mapping = {\n",
    "    'Northeast': ['Maine', 'New Hampshire', 'Vermont', 'Massachusetts', 'Rhode Island', 'Connecticut', 'New York', 'Pennsylvania', 'New Jersey'],\n",
    "    'Midwest': ['Wisconsin', 'Michigan', 'Illinois', 'Indiana', 'Ohio', 'North Dakota', 'South Dakota', 'Nebraska', 'Kansas', 'Minnesota', 'Iowa', 'Missouri'],\n",
    "    'South': ['Delaware', 'Maryland', 'District of Columbia', 'Virginia', 'West Virginia', 'North Carolina', 'South Carolina', 'Georgia', 'Florida', 'Kentucky', 'Tennessee', 'Mississippi', 'Alabama', 'Oklahoma', 'Texas', 'Arkansas', 'Louisiana'],\n",
    "    'West': ['Idaho', 'Montana', 'Wyoming', 'Nevada', 'Utah', 'Colorado', 'Arizona', 'New Mexico', 'Alaska', 'Washington', 'Oregon', 'California', 'Hawaii']\n",
    "}\n",
    "\n",
    "def assign_region(state):\n",
    "    for region, states in region_mapping.items():\n",
    "        if state in states:\n",
    "            return region\n",
    "    return 'Other'\n",
    "\n",
    "df_combined_with_customers['Region'] = df_combined_with_customers['STATE'].apply(assign_region)\n",
    "\n",
    "# Verify the new column\n",
    "df_combined_with_customers['Region'].value_counts()\n",
    "\n"
   ]
  },
  {
   "cell_type": "code",
   "execution_count": 13,
   "id": "5e2c16a0-8036-4546-9c65-bc9e79c56170",
   "metadata": {},
   "outputs": [
    {
     "name": "stdout",
     "output_type": "stream",
     "text": [
      "spending_flag  High spender  Low spender\n",
      "Region                                  \n",
      "Midwest            0.020527     0.979473\n",
      "Northeast          0.018914     0.981086\n",
      "South              0.019463     0.980537\n",
      "West               0.019374     0.980626\n"
     ]
    }
   ],
   "source": [
    "# Create the crosstab\n",
    "region_spending_crosstab = pd.crosstab(df_combined_with_customers['Region'], df_combined_with_customers['spending_flag'], normalize='index')\n",
    "\n",
    "# Display the result\n",
    "print(region_spending_crosstab)\n"
   ]
  },
  {
   "cell_type": "code",
   "execution_count": 11,
   "id": "e68d81b5-b2b0-4489-a618-34b8a1d32c27",
   "metadata": {},
   "outputs": [
    {
     "data": {
      "text/plain": [
       "(24438272, 26)"
      ]
     },
     "execution_count": 11,
     "metadata": {},
     "output_type": "execute_result"
    }
   ],
   "source": [
    "df_high_activity.to_pickle('final_dataset.pkl')\n"
   ]
  },
  {
   "cell_type": "code",
   "execution_count": 15,
   "id": "fe8e3261-e9c8-420a-9b6f-b0e7e38a5081",
   "metadata": {},
   "outputs": [
    {
     "data": {
      "text/plain": [
       "order_id                  2414024\n",
       "user_id                    162633\n",
       "order_number                   95\n",
       "order_day_of_week               7\n",
       "order_hour_of_day              24\n",
       "days_since_prior_order         31\n",
       "product_id                  49418\n",
       "add_to_cart_order             137\n",
       "reordered                       2\n",
       "prices                        242\n",
       "price_label                     3\n",
       "busiest_day                     3\n",
       "busiest_period_of_day           3\n",
       "department_id                  21\n",
       "reorder_frequency           16032\n",
       "spending_flag                   2\n",
       "order_frequency_flag            3\n",
       "Gender                          2\n",
       "STATE                          51\n",
       "age                            64\n",
       "date_joined                  1187\n",
       "n_dependants                    4\n",
       "fam_status                      4\n",
       "income                      96070\n",
       "Region                          4\n",
       "exclusion_flag                  1\n",
       "dtype: int64"
      ]
     },
     "execution_count": 15,
     "metadata": {},
     "output_type": "execute_result"
    }
   ],
   "source": [
    "# Check count of 'user_id' with exclusion\n",
    "df_high_activity.nunique()"
   ]
  },
  {
   "cell_type": "code",
   "execution_count": 25,
   "id": "7b11cb96-1a1b-45d7-ba9e-b37af8ac5f0a",
   "metadata": {},
   "outputs": [
    {
     "name": "stdout",
     "output_type": "stream",
     "text": [
      "The dataset has been successfully saved as 'final_dataset.pkl' in the specified directory.\n"
     ]
    }
   ],
   "source": [
    "# Export the df_high_activity DataFrame to a pickle file in a specific directory\n",
    "df_high_activity.to_pickle(r'C:\\Users\\sudee\\OneDrive\\Documents\\Python Scripts\\Instacart Basket Analysis\\02 Data\\Prepared Data\\final_dataset.pkl')\n",
    "\n",
    "# Confirm that the file has been saved\n",
    "print(\"The dataset has been successfully saved as 'final_dataset.pkl' in the specified directory.\")\n"
   ]
  },
  {
   "cell_type": "code",
   "execution_count": null,
   "id": "47e86bcd-ec25-4935-9d8e-0a46df587343",
   "metadata": {},
   "outputs": [],
   "source": []
  }
 ],
 "metadata": {
  "kernelspec": {
   "display_name": "Python 3 (ipykernel)",
   "language": "python",
   "name": "python3"
  },
  "language_info": {
   "codemirror_mode": {
    "name": "ipython",
    "version": 3
   },
   "file_extension": ".py",
   "mimetype": "text/x-python",
   "name": "python",
   "nbconvert_exporter": "python",
   "pygments_lexer": "ipython3",
   "version": "3.12.4"
  }
 },
 "nbformat": 4,
 "nbformat_minor": 5
}
